{
 "cells": [
  {
   "cell_type": "code",
   "execution_count": 1,
   "id": "51a9746c",
   "metadata": {},
   "outputs": [],
   "source": [
    "import pandas as pd\n",
    "import matplotlib.pyplot as plt\n",
    "%matplotlib inline"
   ]
  },
  {
   "cell_type": "code",
   "execution_count": 2,
   "id": "b35c37e0",
   "metadata": {},
   "outputs": [
    {
     "data": {
      "text/html": [
       "<div>\n",
       "<style scoped>\n",
       "    .dataframe tbody tr th:only-of-type {\n",
       "        vertical-align: middle;\n",
       "    }\n",
       "\n",
       "    .dataframe tbody tr th {\n",
       "        vertical-align: top;\n",
       "    }\n",
       "\n",
       "    .dataframe thead th {\n",
       "        text-align: right;\n",
       "    }\n",
       "</style>\n",
       "<table border=\"1\" class=\"dataframe\">\n",
       "  <thead>\n",
       "    <tr style=\"text-align: right;\">\n",
       "      <th></th>\n",
       "      <th>PassengerId</th>\n",
       "      <th>Survived</th>\n",
       "      <th>Name</th>\n",
       "    </tr>\n",
       "  </thead>\n",
       "  <tbody>\n",
       "    <tr>\n",
       "      <th>0</th>\n",
       "      <td>1</td>\n",
       "      <td>0</td>\n",
       "      <td>Braund, Mr. Owen Harris</td>\n",
       "    </tr>\n",
       "    <tr>\n",
       "      <th>1</th>\n",
       "      <td>2</td>\n",
       "      <td>1</td>\n",
       "      <td>Cumings, Mrs. John Bradley (Florence Briggs Th...</td>\n",
       "    </tr>\n",
       "    <tr>\n",
       "      <th>2</th>\n",
       "      <td>3</td>\n",
       "      <td>1</td>\n",
       "      <td>Heikkinen, Miss. Laina</td>\n",
       "    </tr>\n",
       "    <tr>\n",
       "      <th>3</th>\n",
       "      <td>4</td>\n",
       "      <td>1</td>\n",
       "      <td>Futrelle, Mrs. Jacques Heath (Lily May Peel)</td>\n",
       "    </tr>\n",
       "    <tr>\n",
       "      <th>4</th>\n",
       "      <td>5</td>\n",
       "      <td>0</td>\n",
       "      <td>Allen, Mr. William Henry</td>\n",
       "    </tr>\n",
       "  </tbody>\n",
       "</table>\n",
       "</div>"
      ],
      "text/plain": [
       "   PassengerId  Survived                                               Name\n",
       "0            1         0                            Braund, Mr. Owen Harris\n",
       "1            2         1  Cumings, Mrs. John Bradley (Florence Briggs Th...\n",
       "2            3         1                             Heikkinen, Miss. Laina\n",
       "3            4         1       Futrelle, Mrs. Jacques Heath (Lily May Peel)\n",
       "4            5         0                           Allen, Mr. William Henry"
      ]
     },
     "execution_count": 2,
     "metadata": {},
     "output_type": "execute_result"
    }
   ],
   "source": [
    "df = pd.read_csv('titanic.csv')\n",
    "df.head()"
   ]
  },
  {
   "cell_type": "code",
   "execution_count": 3,
   "id": "a906abb8",
   "metadata": {},
   "outputs": [
    {
     "data": {
      "text/html": [
       "<div>\n",
       "<style scoped>\n",
       "    .dataframe tbody tr th:only-of-type {\n",
       "        vertical-align: middle;\n",
       "    }\n",
       "\n",
       "    .dataframe tbody tr th {\n",
       "        vertical-align: top;\n",
       "    }\n",
       "\n",
       "    .dataframe thead th {\n",
       "        text-align: right;\n",
       "    }\n",
       "</style>\n",
       "<table border=\"1\" class=\"dataframe\">\n",
       "  <thead>\n",
       "    <tr style=\"text-align: right;\">\n",
       "      <th></th>\n",
       "      <th>PassengerId</th>\n",
       "      <th>Survived</th>\n",
       "    </tr>\n",
       "  </thead>\n",
       "  <tbody>\n",
       "    <tr>\n",
       "      <th>0</th>\n",
       "      <td>1</td>\n",
       "      <td>0</td>\n",
       "    </tr>\n",
       "    <tr>\n",
       "      <th>1</th>\n",
       "      <td>2</td>\n",
       "      <td>1</td>\n",
       "    </tr>\n",
       "    <tr>\n",
       "      <th>2</th>\n",
       "      <td>3</td>\n",
       "      <td>1</td>\n",
       "    </tr>\n",
       "    <tr>\n",
       "      <th>3</th>\n",
       "      <td>4</td>\n",
       "      <td>1</td>\n",
       "    </tr>\n",
       "    <tr>\n",
       "      <th>4</th>\n",
       "      <td>5</td>\n",
       "      <td>0</td>\n",
       "    </tr>\n",
       "  </tbody>\n",
       "</table>\n",
       "</div>"
      ],
      "text/plain": [
       "   PassengerId  Survived\n",
       "0            1         0\n",
       "1            2         1\n",
       "2            3         1\n",
       "3            4         1\n",
       "4            5         0"
      ]
     },
     "execution_count": 3,
     "metadata": {},
     "output_type": "execute_result"
    }
   ],
   "source": [
    "df_n = df.drop('Name', axis=1)\n",
    "df_n.head()"
   ]
  },
  {
   "cell_type": "code",
   "execution_count": 4,
   "id": "54b14771",
   "metadata": {},
   "outputs": [
    {
     "data": {
      "image/png": "[encoded data removed]",
      "text/plain": [
       "<Figure size 432x288 with 1 Axes>"
      ]
     },
     "metadata": {
      "needs_background": "light"
     },
     "output_type": "display_data"
    }
   ],
   "source": [
    "plt.scatter(df_n.PassengerId, df_n.Survived, marker='.', c='r', s=100)\n",
    "plt.title('Passenger V/s Survived')\n",
    "plt.xlabel(\"Passenger\")\n",
    "plt.ylabel('Survived')\n",
    "plt.show()"
   ]
  },
  {
   "cell_type": "code",
   "execution_count": 5,
   "id": "a75153c1",
   "metadata": {},
   "outputs": [],
   "source": [
    "from sklearn.model_selection import train_test_split"
   ]
  },
  {
   "cell_type": "code",
   "execution_count": 33,
   "id": "a6f83fef",
   "metadata": {},
   "outputs": [],
   "source": [
    "X_train, X_test, y_train, y_test = train_test_split(df[['PassengerId']], df.Survived, test_size = 0.2)"
   ]
  },
  {
   "cell_type": "code",
   "execution_count": 34,
   "id": "4e7f6554",
   "metadata": {},
   "outputs": [
    {
     "data": {
      "text/plain": [
       "712"
      ]
     },
     "execution_count": 34,
     "metadata": {},
     "output_type": "execute_result"
    }
   ],
   "source": [
    "len(X_train)"
   ]
  },
  {
   "cell_type": "code",
   "execution_count": 35,
   "id": "eb1dd560",
   "metadata": {},
   "outputs": [
    {
     "data": {
      "text/plain": [
       "712"
      ]
     },
     "execution_count": 35,
     "metadata": {},
     "output_type": "execute_result"
    }
   ],
   "source": [
    "len(y_train)"
   ]
  },
  {
   "cell_type": "code",
   "execution_count": 36,
   "id": "7a68434c",
   "metadata": {},
   "outputs": [
    {
     "data": {
      "text/plain": [
       "179"
      ]
     },
     "execution_count": 36,
     "metadata": {},
     "output_type": "execute_result"
    }
   ],
   "source": [
    "len(y_test)"
   ]
  },
  {
   "cell_type": "code",
   "execution_count": 37,
   "id": "e401ce67",
   "metadata": {},
   "outputs": [
    {
     "data": {
      "text/plain": [
       "179"
      ]
     },
     "execution_count": 37,
     "metadata": {},
     "output_type": "execute_result"
    }
   ],
   "source": [
    "len(X_test)"
   ]
  },
  {
   "cell_type": "code",
   "execution_count": 38,
   "id": "37828b18",
   "metadata": {},
   "outputs": [],
   "source": [
    "from sklearn.linear_model import LogisticRegression"
   ]
  },
  {
   "cell_type": "code",
   "execution_count": 39,
   "id": "53832fcb",
   "metadata": {},
   "outputs": [],
   "source": [
    "model = LogisticRegression()"
   ]
  },
  {
   "cell_type": "code",
   "execution_count": 40,
   "id": "98f03679",
   "metadata": {},
   "outputs": [
    {
     "data": {
      "text/html": [
       "<style>#sk-container-id-3 {color: black;background-color: white;}#sk-container-id-3 pre{padding: 0;}#sk-container-id-3 div.sk-toggleable {background-color: white;}#sk-container-id-3 label.sk-toggleable__label {cursor: pointer;display: block;width: 100%;margin-bottom: 0;padding: 0.3em;box-sizing: border-box;text-align: center;}#sk-container-id-3 label.sk-toggleable__label-arrow:before {content: \"▸\";float: left;margin-right: 0.25em;color: #696969;}#sk-container-id-3 label.sk-toggleable__label-arrow:hover:before {color: black;}#sk-container-id-3 div.sk-estimator:hover label.sk-toggleable__label-arrow:before {color: black;}#sk-container-id-3 div.sk-toggleable__content {max-height: 0;max-width: 0;overflow: hidden;text-align: left;background-color: #f0f8ff;}#sk-container-id-3 div.sk-toggleable__content pre {margin: 0.2em;color: black;border-radius: 0.25em;background-color: #f0f8ff;}#sk-container-id-3 input.sk-toggleable__control:checked~div.sk-toggleable__content {max-height: 200px;max-width: 100%;overflow: auto;}#sk-container-id-3 input.sk-toggleable__control:checked~label.sk-toggleable__label-arrow:before {content: \"▾\";}#sk-container-id-3 div.sk-estimator input.sk-toggleable__control:checked~label.sk-toggleable__label {background-color: #d4ebff;}#sk-container-id-3 div.sk-label input.sk-toggleable__control:checked~label.sk-toggleable__label {background-color: #d4ebff;}#sk-container-id-3 input.sk-hidden--visually {border: 0;clip: rect(1px 1px 1px 1px);clip: rect(1px, 1px, 1px, 1px);height: 1px;margin: -1px;overflow: hidden;padding: 0;position: absolute;width: 1px;}#sk-container-id-3 div.sk-estimator {font-family: monospace;background-color: #f0f8ff;border: 1px dotted black;border-radius: 0.25em;box-sizing: border-box;margin-bottom: 0.5em;}#sk-container-id-3 div.sk-estimator:hover {background-color: #d4ebff;}#sk-container-id-3 div.sk-parallel-item::after {content: \"\";width: 100%;border-bottom: 1px solid gray;flex-grow: 1;}#sk-container-id-3 div.sk-label:hover label.sk-toggleable__label {background-color: #d4ebff;}#sk-container-id-3 div.sk-serial::before {content: \"\";position: absolute;border-left: 1px solid gray;box-sizing: border-box;top: 0;bottom: 0;left: 50%;z-index: 0;}#sk-container-id-3 div.sk-serial {display: flex;flex-direction: column;align-items: center;background-color: white;padding-right: 0.2em;padding-left: 0.2em;position: relative;}#sk-container-id-3 div.sk-item {position: relative;z-index: 1;}#sk-container-id-3 div.sk-parallel {display: flex;align-items: stretch;justify-content: center;background-color: white;position: relative;}#sk-container-id-3 div.sk-item::before, #sk-container-id-3 div.sk-parallel-item::before {content: \"\";position: absolute;border-left: 1px solid gray;box-sizing: border-box;top: 0;bottom: 0;left: 50%;z-index: -1;}#sk-container-id-3 div.sk-parallel-item {display: flex;flex-direction: column;z-index: 1;position: relative;background-color: white;}#sk-container-id-3 div.sk-parallel-item:first-child::after {align-self: flex-end;width: 50%;}#sk-container-id-3 div.sk-parallel-item:last-child::after {align-self: flex-start;width: 50%;}#sk-container-id-3 div.sk-parallel-item:only-child::after {width: 0;}#sk-container-id-3 div.sk-dashed-wrapped {border: 1px dashed gray;margin: 0 0.4em 0.5em 0.4em;box-sizing: border-box;padding-bottom: 0.4em;background-color: white;}#sk-container-id-3 div.sk-label label {font-family: monospace;font-weight: bold;display: inline-block;line-height: 1.2em;}#sk-container-id-3 div.sk-label-container {text-align: center;}#sk-container-id-3 div.sk-container {/* jupyter's `normalize.less` sets `[hidden] { display: none; }` but bootstrap.min.css set `[hidden] { display: none !important; }` so we also need the `!important` here to be able to override the default hidden behavior on the sphinx rendered scikit-learn.org. See: https://github.com/scikit-learn/scikit-learn/issues/21755 */display: inline-block !important;position: relative;}#sk-container-id-3 div.sk-text-repr-fallback {display: none;}</style><div id=\"sk-container-id-3\" class=\"sk-top-container\"><div class=\"sk-text-repr-fallback\"><pre>LogisticRegression()</pre><b>In a Jupyter environment, please rerun this cell to show the HTML representation or trust the notebook. <br />On GitHub, the HTML representation is unable to render, please try loading this page with nbviewer.org.</b></div><div class=\"sk-container\" hidden><div class=\"sk-item\"><div class=\"sk-estimator sk-toggleable\"><input class=\"sk-toggleable__control sk-hidden--visually\" id=\"sk-estimator-id-3\" type=\"checkbox\" checked><label for=\"sk-estimator-id-3\" class=\"sk-toggleable__label sk-toggleable__label-arrow\">LogisticRegression</label><div class=\"sk-toggleable__content\"><pre>LogisticRegression()</pre></div></div></div></div></div>"
      ],
      "text/plain": [
       "LogisticRegression()"
      ]
     },
     "execution_count": 40,
     "metadata": {},
     "output_type": "execute_result"
    }
   ],
   "source": [
    "model.fit(X_train, y_train)"
   ]
  },
  {
   "cell_type": "code",
   "execution_count": 41,
   "id": "5ef4eb6f",
   "metadata": {},
   "outputs": [
    {
     "data": {
      "text/plain": [
       "0.5754189944134078"
      ]
     },
     "execution_count": 41,
     "metadata": {},
     "output_type": "execute_result"
    }
   ],
   "source": [
    "model.score(X_test, y_test)"
   ]
  },
  {
   "cell_type": "code",
   "execution_count": 42,
   "id": "6587e615",
   "metadata": {},
   "outputs": [
    {
     "data": {
      "text/plain": [
       "array([0, 0, 0, 0, 0, 0, 0, 0, 0, 0, 0, 0, 0, 0, 0, 0, 0, 0, 0, 0, 0, 0,\n",
       "       0, 0, 0, 0, 0, 0, 0, 0, 0, 0, 0, 0, 0, 0, 0, 0, 0, 0, 0, 0, 0, 0,\n",
       "       0, 0, 0, 0, 0, 0, 0, 0, 0, 0, 0, 0, 0, 0, 0, 0, 0, 0, 0, 0, 0, 0,\n",
       "       0, 0, 0, 0, 0, 0, 0, 0, 0, 0, 0, 0, 0, 0, 0, 0, 0, 0, 0, 0, 0, 0,\n",
       "       0, 0, 0, 0, 0, 0, 0, 0, 0, 0, 0, 0, 0, 0, 0, 0, 0, 0, 0, 0, 0, 0,\n",
       "       0, 0, 0, 0, 0, 0, 0, 0, 0, 0, 0, 0, 0, 0, 0, 0, 0, 0, 0, 0, 0, 0,\n",
       "       0, 0, 0, 0, 0, 0, 0, 0, 0, 0, 0, 0, 0, 0, 0, 0, 0, 0, 0, 0, 0, 0,\n",
       "       0, 0, 0, 0, 0, 0, 0, 0, 0, 0, 0, 0, 0, 0, 0, 0, 0, 0, 0, 0, 0, 0,\n",
       "       0, 0, 0], dtype=int64)"
      ]
     },
     "execution_count": 42,
     "metadata": {},
     "output_type": "execute_result"
    }
   ],
   "source": [
    "model.predict(X_test)"
   ]
  },
  {
   "cell_type": "code",
   "execution_count": 43,
   "id": "d0122315",
   "metadata": {},
   "outputs": [
    {
     "name": "stderr",
     "output_type": "stream",
     "text": [
      "C:\\Users\\Sikkim\\AppData\\Roaming\\Python\\Python310\\site-packages\\sklearn\\base.py:450: UserWarning: X does not have valid feature names, but LogisticRegression was fitted with feature names\n",
      "  warnings.warn(\n"
     ]
    },
    {
     "data": {
      "text/plain": [
       "array([0], dtype=int64)"
      ]
     },
     "execution_count": 43,
     "metadata": {},
     "output_type": "execute_result"
    }
   ],
   "source": [
    "model.predict([[706]])"
   ]
  },
  {
   "cell_type": "code",
   "execution_count": 44,
   "id": "025a7039",
   "metadata": {},
   "outputs": [
    {
     "data": {
      "text/html": [
       "<div>\n",
       "<style scoped>\n",
       "    .dataframe tbody tr th:only-of-type {\n",
       "        vertical-align: middle;\n",
       "    }\n",
       "\n",
       "    .dataframe tbody tr th {\n",
       "        vertical-align: top;\n",
       "    }\n",
       "\n",
       "    .dataframe thead th {\n",
       "        text-align: right;\n",
       "    }\n",
       "</style>\n",
       "<table border=\"1\" class=\"dataframe\">\n",
       "  <thead>\n",
       "    <tr style=\"text-align: right;\">\n",
       "      <th></th>\n",
       "      <th>PassengerId</th>\n",
       "    </tr>\n",
       "  </thead>\n",
       "  <tbody>\n",
       "    <tr>\n",
       "      <th>562</th>\n",
       "      <td>563</td>\n",
       "    </tr>\n",
       "    <tr>\n",
       "      <th>810</th>\n",
       "      <td>811</td>\n",
       "    </tr>\n",
       "    <tr>\n",
       "      <th>203</th>\n",
       "      <td>204</td>\n",
       "    </tr>\n",
       "    <tr>\n",
       "      <th>332</th>\n",
       "      <td>333</td>\n",
       "    </tr>\n",
       "    <tr>\n",
       "      <th>707</th>\n",
       "      <td>708</td>\n",
       "    </tr>\n",
       "    <tr>\n",
       "      <th>...</th>\n",
       "      <td>...</td>\n",
       "    </tr>\n",
       "    <tr>\n",
       "      <th>141</th>\n",
       "      <td>142</td>\n",
       "    </tr>\n",
       "    <tr>\n",
       "      <th>230</th>\n",
       "      <td>231</td>\n",
       "    </tr>\n",
       "    <tr>\n",
       "      <th>405</th>\n",
       "      <td>406</td>\n",
       "    </tr>\n",
       "    <tr>\n",
       "      <th>668</th>\n",
       "      <td>669</td>\n",
       "    </tr>\n",
       "    <tr>\n",
       "      <th>665</th>\n",
       "      <td>666</td>\n",
       "    </tr>\n",
       "  </tbody>\n",
       "</table>\n",
       "<p>712 rows × 1 columns</p>\n",
       "</div>"
      ],
      "text/plain": [
       "     PassengerId\n",
       "562          563\n",
       "810          811\n",
       "203          204\n",
       "332          333\n",
       "707          708\n",
       "..           ...\n",
       "141          142\n",
       "230          231\n",
       "405          406\n",
       "668          669\n",
       "665          666\n",
       "\n",
       "[712 rows x 1 columns]"
      ]
     },
     "execution_count": 44,
     "metadata": {},
     "output_type": "execute_result"
    }
   ],
   "source": [
    "X_train"
   ]
  },
  {
   "cell_type": "code",
   "execution_count": 45,
   "id": "21398776",
   "metadata": {},
   "outputs": [
    {
     "data": {
      "text/plain": [
       "562    0\n",
       "810    0\n",
       "203    0\n",
       "332    0\n",
       "707    1\n",
       "      ..\n",
       "141    1\n",
       "230    1\n",
       "405    0\n",
       "668    0\n",
       "665    0\n",
       "Name: Survived, Length: 712, dtype: int64"
      ]
     },
     "execution_count": 45,
     "metadata": {},
     "output_type": "execute_result"
    }
   ],
   "source": [
    "y_train"
   ]
  },
  {
   "cell_type": "code",
   "execution_count": 46,
   "id": "cac04b94",
   "metadata": {},
   "outputs": [
    {
     "data": {
      "text/plain": [
       "array([[63.84021546, 36.15978454],\n",
       "       [62.47288164, 37.52711836],\n",
       "       [62.67566967, 37.32433033],\n",
       "       [63.27597574, 36.72402426],\n",
       "       [63.30816464, 36.69183536],\n",
       "       [63.63474067, 36.36525933],\n",
       "       [63.49034357, 36.50965643],\n",
       "       [62.4620539 , 37.5379461 ],\n",
       "       [61.80196662, 38.19803338],\n",
       "       [63.35374527, 36.64625473],\n",
       "       [62.11219649, 37.88780351],\n",
       "       [61.68196937, 38.31803063],\n",
       "       [62.42956323, 37.57043677],\n",
       "       [61.47163204, 38.52836796],\n",
       "       [63.83221936, 36.16778064],\n",
       "       [63.49837203, 36.50162797],\n",
       "       [62.56216276, 37.43783724],\n",
       "       [62.57568277, 37.42431723],\n",
       "       [61.89459335, 38.10540665],\n",
       "       [62.75396216, 37.24603784],\n",
       "       [63.61069146, 36.38930854],\n",
       "       [62.92112147, 37.07887853],\n",
       "       [63.70951681, 36.29048319],\n",
       "       [62.72697228, 37.27302772],\n",
       "       [63.09066043, 36.90933957],\n",
       "       [63.81889083, 36.18110917],\n",
       "       [62.10947944, 37.89052056],\n",
       "       [63.20082227, 36.79917773],\n",
       "       [63.32425465, 36.67574535],\n",
       "       [63.24377499, 36.75622501],\n",
       "       [62.45934678, 37.54065322],\n",
       "       [63.72019371, 36.27980629],\n",
       "       [63.72286273, 36.27713727],\n",
       "       [63.79489411, 36.20510589],\n",
       "       [63.76555545, 36.23444455],\n",
       "       [62.77824626, 37.22175374],\n",
       "       [62.69727425, 37.30272575],\n",
       "       [62.95882449, 37.04117551],\n",
       "       [63.85887003, 36.14112997],\n",
       "       [62.17195242, 37.82804758],\n",
       "       [62.53782181, 37.46217819],\n",
       "       [63.81355882, 36.18644118],\n",
       "       [62.98574555, 37.01425445],\n",
       "       [63.20619251, 36.79380749],\n",
       "       [63.22767018, 36.77232982],\n",
       "       [63.00727659, 36.99272341],\n",
       "       [62.65406002, 37.34593998],\n",
       "       [62.199102  , 37.800898  ],\n",
       "       [63.06377093, 36.93622907],\n",
       "       [61.63283844, 38.36716156],\n",
       "       [62.32660237, 37.67339763],\n",
       "       [63.24645883, 36.75354117],\n",
       "       [62.52970675, 37.47029325],\n",
       "       [63.43680135, 36.56319865],\n",
       "       [63.64542702, 36.35457298],\n",
       "       [63.66946638, 36.33053362],\n",
       "       [63.82955382, 36.17044618],\n",
       "       [63.79756075, 36.20243925],\n",
       "       [63.18739525, 36.81260475],\n",
       "       [61.54270341, 38.45729659],\n",
       "       [62.37809678, 37.62190322],\n",
       "       [61.52630668, 38.47369332],\n",
       "       [61.78833779, 38.21166221],\n",
       "       [62.62704086, 37.37295914],\n",
       "       [62.04968506, 37.95031494],\n",
       "       [63.70684737, 36.29315263],\n",
       "       [62.02793257, 37.97206743],\n",
       "       [62.68647259, 37.31352741],\n",
       "       [62.49994551, 37.50005449],\n",
       "       [63.672137  , 36.327863  ],\n",
       "       [62.1936727 , 37.8063273 ],\n",
       "       [62.89148662, 37.10851338],\n",
       "       [62.02249369, 37.97750631],\n",
       "       [62.62163609, 37.37836391],\n",
       "       [63.08797185, 36.91202815],\n",
       "       [63.75221631, 36.24778369],\n",
       "       [62.25609122, 37.74390878],\n",
       "       [62.1040451 , 37.8959549 ],\n",
       "       [62.79443208, 37.20556792],\n",
       "       [63.35642574, 36.64357426],\n",
       "       [63.51710218, 36.48289782],\n",
       "       [63.52512813, 36.47487187],\n",
       "       [62.25337821, 37.74662179],\n",
       "       [63.36982686, 36.63017314],\n",
       "       [62.26694247, 37.73305753],\n",
       "       [62.1203472 , 37.8796528 ],\n",
       "       [63.73887504, 36.26112496],\n",
       "       [62.22081616, 37.77918384],\n",
       "       [61.61645617, 38.38354383],\n",
       "       [61.75562103, 38.24437897],\n",
       "       [61.8700829 , 38.1299171 ],\n",
       "       [63.30011853, 36.69988147],\n",
       "       [62.9130402 , 37.0869598 ],\n",
       "       [63.7548843 , 36.2451157 ],\n",
       "       [62.86453742, 37.13546258],\n",
       "       [62.8672327 , 37.1327673 ],\n",
       "       [63.21156242, 36.78843758],\n",
       "       [62.43227121, 37.56772879],\n",
       "       [61.76380122, 38.23619878],\n",
       "       [63.63206887, 36.36793113],\n",
       "       [61.55636534, 38.44363466],\n",
       "       [61.57002545, 38.42997455],\n",
       "       [62.74586603, 37.25413397],\n",
       "       [62.36996794, 37.63003206],\n",
       "       [62.71617411, 37.28382589],\n",
       "       [63.44751246, 36.55248754],\n",
       "       [62.48370812, 37.51629188],\n",
       "       [62.83488406, 37.16511594],\n",
       "       [63.2786586 , 36.7213414 ],\n",
       "       [62.02521317, 37.97478683],\n",
       "       [62.59190418, 37.40809582],\n",
       "       [62.90765229, 37.09234771],\n",
       "       [62.84836406, 37.15163594],\n",
       "       [61.80741764, 38.19258236],\n",
       "       [63.69082897, 36.30917103],\n",
       "       [62.24252542, 37.75747458],\n",
       "       [62.64325331, 37.35674669],\n",
       "       [61.60280227, 38.39719773],\n",
       "       [62.62433851, 37.37566149],\n",
       "       [63.50104801, 36.49895199],\n",
       "       [63.66679568, 36.33320432],\n",
       "       [63.06646025, 36.93353975],\n",
       "       [63.47963779, 36.52036221],\n",
       "       [63.2088775 , 36.7911225 ],\n",
       "       [63.39930202, 36.60069798],\n",
       "       [61.47983509, 38.52016491],\n",
       "       [62.261517  , 37.738483  ],\n",
       "       [61.61099483, 38.38900517],\n",
       "       [63.41805372, 36.58194628],\n",
       "       [61.57822064, 38.42177936],\n",
       "       [61.71198209, 38.28801791],\n",
       "       [61.7665278 , 38.2334722 ],\n",
       "       [62.87801302, 37.12198698],\n",
       "       [62.79712943, 37.20287057],\n",
       "       [62.9507466 , 37.0492534 ],\n",
       "       [62.9184278 , 37.0815722 ],\n",
       "       [62.14751127, 37.85248873],\n",
       "       [61.90276216, 38.09723784],\n",
       "       [63.04494345, 36.95505655],\n",
       "       [61.73107645, 38.26892355],\n",
       "       [61.65194774, 38.34805226],\n",
       "       [61.58368374, 38.41631626],\n",
       "       [62.31575789, 37.68424211],\n",
       "       [63.73086926, 36.26913074],\n",
       "       [62.8133119 , 37.1866881 ],\n",
       "       [62.80791807, 37.19208193],\n",
       "       [63.31621002, 36.68378998],\n",
       "       [63.16053507, 36.83946493],\n",
       "       [61.58095223, 38.41904777],\n",
       "       [63.07452771, 36.92547229],\n",
       "       [62.21267393, 37.78732607],\n",
       "       [63.59732785, 36.40267215],\n",
       "       [63.77622524, 36.22377476],\n",
       "       [61.5973402 , 38.4026598 ],\n",
       "       [62.55404982, 37.44595018],\n",
       "       [63.47696113, 36.52303887],\n",
       "       [61.79378955, 38.20621045],\n",
       "       [63.37786653, 36.62213347],\n",
       "       [62.42685517, 37.57314483],\n",
       "       [61.73653132, 38.26346868],\n",
       "       [62.8834027 , 37.1165973 ],\n",
       "       [63.13635393, 36.86364607],\n",
       "       [62.12306395, 37.87693605],\n",
       "       [62.31846913, 37.68153087],\n",
       "       [62.43768695, 37.56231305],\n",
       "       [63.85354058, 36.14645942],\n",
       "       [61.91637533, 38.08362467],\n",
       "       [62.155659  , 37.844341  ],\n",
       "       [63.09603736, 36.90396264],\n",
       "       [63.57326806, 36.42673194],\n",
       "       [61.55909751, 38.44090249],\n",
       "       [63.05839206, 36.94160794],\n",
       "       [63.74954822, 36.25045178],\n",
       "       [63.34034168, 36.65965832],\n",
       "       [63.37518672, 36.62481328],\n",
       "       [63.48231436, 36.51768564],\n",
       "       [61.51264075, 38.48735925],\n",
       "       [63.68815894, 36.31184106],\n",
       "       [62.72967163, 37.27032837]])"
      ]
     },
     "execution_count": 46,
     "metadata": {},
     "output_type": "execute_result"
    }
   ],
   "source": [
    "model.predict_proba(X_test) * 100"
   ]
  },
  {
   "cell_type": "markdown",
   "id": "ac9d66a3",
   "metadata": {},
   "source": [
    "# Logistic Regression Failed"
   ]
  }
 ],
 "metadata": {
  "kernelspec": {
   "display_name": "Python 3 (ipykernel)",
   "language": "python",
   "name": "python3"
  },
  "language_info": {
   "codemirror_mode": {
    "name": "ipython",
    "version": 3
   },
   "file_extension": ".py",
   "mimetype": "text/x-python",
   "name": "python",
   "nbconvert_exporter": "python",
   "pygments_lexer": "ipython3",
   "version": "3.10.6"
  }
 },
 "nbformat": 4,
 "nbformat_minor": 5
}
