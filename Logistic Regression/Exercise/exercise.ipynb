{
 "cells": [
  {
   "cell_type": "markdown",
   "id": "4f4888d6",
   "metadata": {},
   "source": [
    "                                                        Exercise\n",
    "\n",
    "\n",
    "Use sklearn.datasets iris flower dataset to train your model using logistic regression. You need to figure out accuracy of your model and use that to predict different samples in your test dataset. In iris dataset there are 150 samples containing following features,\n",
    "\n",
    "    1 - Sepal Length\n",
    "    2 - Sepal Width\n",
    "    3 - Petal Length\n",
    "    4 - Petal Width\n",
    "\n",
    "Use above 4 features you will classify a flower in one of the three categories,\n",
    "\n",
    "    1. Selosa\n",
    "    2. Versicolour\n",
    "    3. Virginica"
   ]
  },
  {
   "cell_type": "code",
   "execution_count": 19,
   "id": "e89abd92",
   "metadata": {},
   "outputs": [],
   "source": [
    "import pandas as pd\n",
    "from sklearn.datasets import load_iris\n",
    "import numpy as np"
   ]
  },
  {
   "cell_type": "code",
   "execution_count": 15,
   "id": "df4230c1",
   "metadata": {},
   "outputs": [],
   "source": [
    "iris = load_iris()"
   ]
  },
  {
   "cell_type": "code",
   "execution_count": 21,
   "id": "9dd50774",
   "metadata": {
    "scrolled": true
   },
   "outputs": [
    {
     "ename": "NameError",
     "evalue": "name 'iris_target' is not defined",
     "output_type": "error",
     "traceback": [
      "\u001b[1;31m---------------------------------------------------------------------------\u001b[0m",
      "\u001b[1;31mNameError\u001b[0m                                 Traceback (most recent call last)",
      "Cell \u001b[1;32mIn [21], line 1\u001b[0m\n\u001b[1;32m----> 1\u001b[0m target \u001b[38;5;241m=\u001b[39m iris_target\n",
      "\u001b[1;31mNameError\u001b[0m: name 'iris_target' is not defined"
     ]
    }
   ],
   "source": [
    "target = iris_target"
   ]
  },
  {
   "cell_type": "code",
   "execution_count": null,
   "id": "f4975f3d",
   "metadata": {},
   "outputs": [],
   "source": []
  }
 ],
 "metadata": {
  "kernelspec": {
   "display_name": "Python 3 (ipykernel)",
   "language": "python",
   "name": "python3"
  },
  "language_info": {
   "codemirror_mode": {
    "name": "ipython",
    "version": 3
   },
   "file_extension": ".py",
   "mimetype": "text/x-python",
   "name": "python",
   "nbconvert_exporter": "python",
   "pygments_lexer": "ipython3",
   "version": "3.10.7"
  }
 },
 "nbformat": 4,
 "nbformat_minor": 5
}
