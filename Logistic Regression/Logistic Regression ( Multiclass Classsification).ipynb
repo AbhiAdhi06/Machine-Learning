{
 "cells": [
  {
   "cell_type": "markdown",
   "id": "818a7fdf",
   "metadata": {},
   "source": [
    "                                                    CLASSIFICATION TYPES"
   ]
  },
  {
   "cell_type": "markdown",
   "id": "63bf83db",
   "metadata": {},
   "source": [
    "will costumer buy life insurance?\n",
    "    1) Yes\n",
    "    2) No\n",
    "    \n",
    "    \n",
    "This is an example of Binary Classification."
   ]
  },
  {
   "cell_type": "markdown",
   "id": "8f6c942c",
   "metadata": {},
   "source": [
    "Which party a person is going to vote for?\n",
    "    1) BJP\n",
    "    2) Congress\n",
    "    3} AAP\n",
    "    \n",
    "    \n",
    "This is an example of MULTICLASS CLASSIFICATION."
   ]
  },
  {
   "cell_type": "code",
   "execution_count": 3,
   "id": "49ec0e4b",
   "metadata": {},
   "outputs": [],
   "source": [
    "from matplotlib import pyplot as plt\n",
    "import pandas as pd\n",
    "from sklearn.datasets import load_digits"
   ]
  },
  {
   "cell_type": "code",
   "execution_count": 11,
   "id": "acbbb9d1",
   "metadata": {
    "scrolled": true
   },
   "outputs": [
    {
     "data": {
      "text/plain": [
       "array([[[ 0.,  0.,  5., ...,  1.,  0.,  0.],\n",
       "        [ 0.,  0., 13., ..., 15.,  5.,  0.],\n",
       "        [ 0.,  3., 15., ..., 11.,  8.,  0.],\n",
       "        ...,\n",
       "        [ 0.,  4., 11., ..., 12.,  7.,  0.],\n",
       "        [ 0.,  2., 14., ..., 12.,  0.,  0.],\n",
       "        [ 0.,  0.,  6., ...,  0.,  0.,  0.]],\n",
       "\n",
       "       [[ 0.,  0.,  0., ...,  5.,  0.,  0.],\n",
       "        [ 0.,  0.,  0., ...,  9.,  0.,  0.],\n",
       "        [ 0.,  0.,  3., ...,  6.,  0.,  0.],\n",
       "        ...,\n",
       "        [ 0.,  0.,  1., ...,  6.,  0.,  0.],\n",
       "        [ 0.,  0.,  1., ...,  6.,  0.,  0.],\n",
       "        [ 0.,  0.,  0., ..., 10.,  0.,  0.]],\n",
       "\n",
       "       [[ 0.,  0.,  0., ..., 12.,  0.,  0.],\n",
       "        [ 0.,  0.,  3., ..., 14.,  0.,  0.],\n",
       "        [ 0.,  0.,  8., ..., 16.,  0.,  0.],\n",
       "        ...,\n",
       "        [ 0.,  9., 16., ...,  0.,  0.,  0.],\n",
       "        [ 0.,  3., 13., ..., 11.,  5.,  0.],\n",
       "        [ 0.,  0.,  0., ..., 16.,  9.,  0.]],\n",
       "\n",
       "       ...,\n",
       "\n",
       "       [[ 0.,  0.,  1., ...,  1.,  0.,  0.],\n",
       "        [ 0.,  0., 13., ...,  2.,  1.,  0.],\n",
       "        [ 0.,  0., 16., ..., 16.,  5.,  0.],\n",
       "        ...,\n",
       "        [ 0.,  0., 16., ..., 15.,  0.,  0.],\n",
       "        [ 0.,  0., 15., ..., 16.,  0.,  0.],\n",
       "        [ 0.,  0.,  2., ...,  6.,  0.,  0.]],\n",
       "\n",
       "       [[ 0.,  0.,  2., ...,  0.,  0.,  0.],\n",
       "        [ 0.,  0., 14., ..., 15.,  1.,  0.],\n",
       "        [ 0.,  4., 16., ..., 16.,  7.,  0.],\n",
       "        ...,\n",
       "        [ 0.,  0.,  0., ..., 16.,  2.,  0.],\n",
       "        [ 0.,  0.,  4., ..., 16.,  2.,  0.],\n",
       "        [ 0.,  0.,  5., ..., 12.,  0.,  0.]],\n",
       "\n",
       "       [[ 0.,  0., 10., ...,  1.,  0.,  0.],\n",
       "        [ 0.,  2., 16., ...,  1.,  0.,  0.],\n",
       "        [ 0.,  0., 15., ..., 15.,  0.,  0.],\n",
       "        ...,\n",
       "        [ 0.,  4., 16., ..., 16.,  6.,  0.],\n",
       "        [ 0.,  8., 16., ..., 16.,  8.,  0.],\n",
       "        [ 0.,  1.,  8., ..., 12.,  1.,  0.]]])"
      ]
     },
     "execution_count": 11,
     "metadata": {},
     "output_type": "execute_result"
    }
   ],
   "source": [
    "%matplotlib inline\n",
    "digits = load_digits()\n",
    "digits.images"
   ]
  },
  {
   "cell_type": "code",
   "execution_count": 13,
   "id": "3f81d74b",
   "metadata": {},
   "outputs": [
    {
     "data": {
      "text/plain": [
       "<matplotlib.image.AxesImage at 0x1e855dd2fe0>"
      ]
     },
     "execution_count": 13,
     "metadata": {},
     "output_type": "execute_result"
    },
    {
     "data": {
      "text/plain": [
       "<Figure size 432x288 with 0 Axes>"
      ]
     },
     "metadata": {},
     "output_type": "display_data"
    },
    {
     "data": {
      "image/png": "[encoded data removed]",
      "text/plain": [
       "<Figure size 288x288 with 1 Axes>"
      ]
     },
     "metadata": {
      "needs_background": "light"
     },
     "output_type": "display_data"
    }
   ],
   "source": [
    "plt.gray()\n",
    "plt.matshow(digits.images[0])"
   ]
  },
  {
   "cell_type": "code",
   "execution_count": 14,
   "id": "04c9d6c4",
   "metadata": {},
   "outputs": [],
   "source": [
    "from sklearn import linear_model\n",
    "model = linear_model.LogisticRegression()"
   ]
  },
  {
   "cell_type": "code",
   "execution_count": 20,
   "id": "03e91b2d",
   "metadata": {},
   "outputs": [],
   "source": [
    "from sklearn.model_selection import train_test_split\n",
    "x_train, x_test, y_train, y_test = train_test_split(digits.data, digits.target, test_size = 0.2)"
   ]
  },
  {
   "cell_type": "code",
   "execution_count": 21,
   "id": "09444684",
   "metadata": {},
   "outputs": [
    {
     "data": {
      "text/plain": [
       "360"
      ]
     },
     "execution_count": 21,
     "metadata": {},
     "output_type": "execute_result"
    }
   ],
   "source": [
    "len(x_test)"
   ]
  },
  {
   "cell_type": "code",
   "execution_count": 22,
   "id": "29dfea2a",
   "metadata": {},
   "outputs": [
    {
     "data": {
      "text/plain": [
       "1437"
      ]
     },
     "execution_count": 22,
     "metadata": {},
     "output_type": "execute_result"
    }
   ],
   "source": [
    "len(x_train)"
   ]
  },
  {
   "cell_type": "code",
   "execution_count": 23,
   "id": "6d3b7800",
   "metadata": {},
   "outputs": [
    {
     "data": {
      "text/plain": [
       "360"
      ]
     },
     "execution_count": 23,
     "metadata": {},
     "output_type": "execute_result"
    }
   ],
   "source": [
    "len(y_test)"
   ]
  },
  {
   "cell_type": "code",
   "execution_count": 24,
   "id": "3dfe86e4",
   "metadata": {},
   "outputs": [
    {
     "data": {
      "text/plain": [
       "1437"
      ]
     },
     "execution_count": 24,
     "metadata": {},
     "output_type": "execute_result"
    }
   ],
   "source": [
    "len(y_train)"
   ]
  },
  {
   "cell_type": "code",
   "execution_count": 26,
   "id": "b167bbcd",
   "metadata": {
    "scrolled": false
   },
   "outputs": [
    {
     "name": "stderr",
     "output_type": "stream",
     "text": [
      "C:\\Users\\Sikkim\\AppData\\Roaming\\Python\\Python310\\site-packages\\sklearn\\linear_model\\_logistic.py:444: ConvergenceWarning: lbfgs failed to converge (status=1):\n",
      "STOP: TOTAL NO. of ITERATIONS REACHED LIMIT.\n",
      "\n",
      "Increase the number of iterations (max_iter) or scale the data as shown in:\n",
      "    https://scikit-learn.org/stable/modules/preprocessing.html\n",
      "Please also refer to the documentation for alternative solver options:\n",
      "    https://scikit-learn.org/stable/modules/linear_model.html#logistic-regression\n",
      "  n_iter_i = _check_optimize_result(\n"
     ]
    },
    {
     "data": {
      "text/html": [
       "<style>#sk-container-id-1 {color: black;background-color: white;}#sk-container-id-1 pre{padding: 0;}#sk-container-id-1 div.sk-toggleable {background-color: white;}#sk-container-id-1 label.sk-toggleable__label {cursor: pointer;display: block;width: 100%;margin-bottom: 0;padding: 0.3em;box-sizing: border-box;text-align: center;}#sk-container-id-1 label.sk-toggleable__label-arrow:before {content: \"▸\";float: left;margin-right: 0.25em;color: #696969;}#sk-container-id-1 label.sk-toggleable__label-arrow:hover:before {color: black;}#sk-container-id-1 div.sk-estimator:hover label.sk-toggleable__label-arrow:before {color: black;}#sk-container-id-1 div.sk-toggleable__content {max-height: 0;max-width: 0;overflow: hidden;text-align: left;background-color: #f0f8ff;}#sk-container-id-1 div.sk-toggleable__content pre {margin: 0.2em;color: black;border-radius: 0.25em;background-color: #f0f8ff;}#sk-container-id-1 input.sk-toggleable__control:checked~div.sk-toggleable__content {max-height: 200px;max-width: 100%;overflow: auto;}#sk-container-id-1 input.sk-toggleable__control:checked~label.sk-toggleable__label-arrow:before {content: \"▾\";}#sk-container-id-1 div.sk-estimator input.sk-toggleable__control:checked~label.sk-toggleable__label {background-color: #d4ebff;}#sk-container-id-1 div.sk-label input.sk-toggleable__control:checked~label.sk-toggleable__label {background-color: #d4ebff;}#sk-container-id-1 input.sk-hidden--visually {border: 0;clip: rect(1px 1px 1px 1px);clip: rect(1px, 1px, 1px, 1px);height: 1px;margin: -1px;overflow: hidden;padding: 0;position: absolute;width: 1px;}#sk-container-id-1 div.sk-estimator {font-family: monospace;background-color: #f0f8ff;border: 1px dotted black;border-radius: 0.25em;box-sizing: border-box;margin-bottom: 0.5em;}#sk-container-id-1 div.sk-estimator:hover {background-color: #d4ebff;}#sk-container-id-1 div.sk-parallel-item::after {content: \"\";width: 100%;border-bottom: 1px solid gray;flex-grow: 1;}#sk-container-id-1 div.sk-label:hover label.sk-toggleable__label {background-color: #d4ebff;}#sk-container-id-1 div.sk-serial::before {content: \"\";position: absolute;border-left: 1px solid gray;box-sizing: border-box;top: 0;bottom: 0;left: 50%;z-index: 0;}#sk-container-id-1 div.sk-serial {display: flex;flex-direction: column;align-items: center;background-color: white;padding-right: 0.2em;padding-left: 0.2em;position: relative;}#sk-container-id-1 div.sk-item {position: relative;z-index: 1;}#sk-container-id-1 div.sk-parallel {display: flex;align-items: stretch;justify-content: center;background-color: white;position: relative;}#sk-container-id-1 div.sk-item::before, #sk-container-id-1 div.sk-parallel-item::before {content: \"\";position: absolute;border-left: 1px solid gray;box-sizing: border-box;top: 0;bottom: 0;left: 50%;z-index: -1;}#sk-container-id-1 div.sk-parallel-item {display: flex;flex-direction: column;z-index: 1;position: relative;background-color: white;}#sk-container-id-1 div.sk-parallel-item:first-child::after {align-self: flex-end;width: 50%;}#sk-container-id-1 div.sk-parallel-item:last-child::after {align-self: flex-start;width: 50%;}#sk-container-id-1 div.sk-parallel-item:only-child::after {width: 0;}#sk-container-id-1 div.sk-dashed-wrapped {border: 1px dashed gray;margin: 0 0.4em 0.5em 0.4em;box-sizing: border-box;padding-bottom: 0.4em;background-color: white;}#sk-container-id-1 div.sk-label label {font-family: monospace;font-weight: bold;display: inline-block;line-height: 1.2em;}#sk-container-id-1 div.sk-label-container {text-align: center;}#sk-container-id-1 div.sk-container {/* jupyter's `normalize.less` sets `[hidden] { display: none; }` but bootstrap.min.css set `[hidden] { display: none !important; }` so we also need the `!important` here to be able to override the default hidden behavior on the sphinx rendered scikit-learn.org. See: https://github.com/scikit-learn/scikit-learn/issues/21755 */display: inline-block !important;position: relative;}#sk-container-id-1 div.sk-text-repr-fallback {display: none;}</style><div id=\"sk-container-id-1\" class=\"sk-top-container\"><div class=\"sk-text-repr-fallback\"><pre>LogisticRegression()</pre><b>In a Jupyter environment, please rerun this cell to show the HTML representation or trust the notebook. <br />On GitHub, the HTML representation is unable to render, please try loading this page with nbviewer.org.</b></div><div class=\"sk-container\" hidden><div class=\"sk-item\"><div class=\"sk-estimator sk-toggleable\"><input class=\"sk-toggleable__control sk-hidden--visually\" id=\"sk-estimator-id-1\" type=\"checkbox\" checked><label for=\"sk-estimator-id-1\" class=\"sk-toggleable__label sk-toggleable__label-arrow\">LogisticRegression</label><div class=\"sk-toggleable__content\"><pre>LogisticRegression()</pre></div></div></div></div></div>"
      ],
      "text/plain": [
       "LogisticRegression()"
      ]
     },
     "execution_count": 26,
     "metadata": {},
     "output_type": "execute_result"
    }
   ],
   "source": [
    "model.fit(x_train, y_train)"
   ]
  },
  {
   "cell_type": "code",
   "execution_count": 27,
   "id": "49e0aff1",
   "metadata": {},
   "outputs": [
    {
     "data": {
      "text/plain": [
       "array([2, 7, 5, 3, 8, 7, 4, 7, 9, 6, 7, 0, 9, 3, 0, 7, 4, 3, 0, 7, 4, 6,\n",
       "       2, 8, 6, 7, 7, 3, 1, 1, 6, 7, 7, 0, 2, 7, 4, 0, 5, 1, 6, 5, 8, 8,\n",
       "       6, 6, 0, 8, 6, 4, 2, 5, 1, 1, 6, 1, 9, 3, 5, 1, 9, 2, 1, 1, 8, 6,\n",
       "       9, 8, 4, 0, 8, 0, 6, 9, 1, 4, 8, 1, 3, 8, 2, 0, 5, 7, 1, 7, 1, 8,\n",
       "       1, 6, 6, 3, 0, 1, 7, 5, 4, 4, 0, 6, 6, 3, 0, 0, 6, 2, 6, 7, 1, 8,\n",
       "       5, 4, 5, 3, 4, 9, 0, 8, 4, 5, 4, 6, 9, 3, 2, 1, 3, 5, 2, 4, 2, 7,\n",
       "       4, 8, 0, 4, 7, 2, 4, 7, 1, 9, 2, 0, 8, 3, 5, 1, 9, 1, 7, 7, 0, 8,\n",
       "       9, 2, 7, 4, 7, 2, 3, 4, 5, 9, 3, 8, 9, 8, 8, 1, 8, 3, 4, 2, 2, 0,\n",
       "       1, 5, 2, 1, 2, 9, 2, 4, 5, 2, 8, 0, 3, 9, 0, 6, 2, 0, 5, 0, 2, 5,\n",
       "       5, 6, 4, 7, 7, 0, 4, 3, 9, 4, 2, 1, 0, 6, 5, 7, 8, 0, 0, 4, 3, 0,\n",
       "       7, 3, 9, 6, 7, 6, 0, 2, 4, 3, 5, 1, 0, 4, 1, 5, 1, 9, 6, 4, 1, 2,\n",
       "       0, 1, 8, 8, 6, 3, 1, 6, 1, 3, 6, 7, 3, 3, 7, 4, 1, 2, 9, 5, 4, 6,\n",
       "       9, 2, 0, 2, 6, 1, 0, 4, 8, 3, 7, 8, 5, 4, 9, 2, 0, 6, 7, 3, 8, 0,\n",
       "       8, 3, 3, 6, 5, 2, 9, 0, 2, 3, 7, 1, 5, 5, 1, 3, 0, 5, 0, 0, 9, 9,\n",
       "       6, 6, 9, 7, 3, 3, 2, 4, 6, 5, 4, 4, 0, 3, 0, 1, 6, 5, 4, 1, 3, 1,\n",
       "       9, 5, 6, 0, 9, 4, 0, 5, 1, 3, 2, 4, 3, 3, 2, 4, 5, 2, 3, 9, 9, 7,\n",
       "       4, 1, 9, 5, 2, 7, 6, 3])"
      ]
     },
     "execution_count": 27,
     "metadata": {},
     "output_type": "execute_result"
    }
   ],
   "source": [
    "model.predict(x_test)"
   ]
  },
  {
   "cell_type": "code",
   "execution_count": 28,
   "id": "3e727a81",
   "metadata": {
    "scrolled": true
   },
   "outputs": [
    {
     "data": {
      "text/plain": [
       "array([2, 7, 5, 3, 8, 7, 4, 7, 9, 6, 7, 0, 9, 3, 0, 7, 4, 3, 0, 7, 4, 6,\n",
       "       2, 8, 6, 7, 7, 3, 1, 1, 6, 7, 7, 0, 2, 7, 4, 0, 5, 1, 6, 5, 8, 8,\n",
       "       6, 6, 0, 6, 6, 4, 2, 5, 1, 1, 6, 1, 9, 3, 5, 1, 9, 2, 1, 1, 8, 6,\n",
       "       9, 1, 4, 0, 8, 0, 6, 9, 1, 4, 8, 1, 3, 8, 2, 0, 5, 7, 1, 7, 1, 8,\n",
       "       1, 6, 6, 3, 0, 1, 7, 5, 4, 4, 0, 6, 6, 3, 0, 0, 6, 2, 6, 7, 1, 8,\n",
       "       5, 4, 5, 3, 4, 3, 0, 8, 4, 5, 4, 6, 9, 3, 2, 1, 3, 5, 2, 4, 2, 7,\n",
       "       4, 8, 0, 4, 7, 2, 4, 7, 1, 9, 2, 0, 8, 3, 5, 1, 9, 1, 7, 7, 0, 8,\n",
       "       9, 2, 7, 4, 7, 2, 3, 4, 5, 9, 3, 8, 9, 8, 8, 8, 8, 3, 4, 2, 2, 0,\n",
       "       1, 5, 2, 1, 2, 9, 2, 4, 5, 2, 4, 0, 3, 9, 0, 6, 2, 0, 5, 0, 2, 5,\n",
       "       5, 6, 4, 7, 7, 0, 4, 3, 9, 4, 2, 1, 0, 6, 5, 7, 8, 0, 0, 4, 3, 0,\n",
       "       7, 3, 9, 6, 7, 6, 0, 2, 4, 3, 5, 1, 0, 4, 1, 5, 1, 9, 6, 4, 1, 2,\n",
       "       0, 1, 8, 8, 6, 3, 5, 6, 1, 3, 6, 7, 3, 3, 7, 4, 1, 2, 9, 5, 4, 6,\n",
       "       9, 2, 0, 2, 6, 1, 0, 4, 8, 3, 7, 8, 5, 4, 9, 2, 0, 6, 7, 3, 8, 0,\n",
       "       8, 3, 3, 6, 5, 2, 9, 0, 2, 3, 7, 8, 5, 5, 1, 3, 0, 5, 0, 0, 9, 9,\n",
       "       6, 6, 9, 7, 3, 3, 2, 4, 6, 5, 4, 4, 0, 3, 0, 4, 6, 5, 4, 1, 3, 1,\n",
       "       9, 5, 6, 0, 9, 4, 0, 5, 1, 3, 2, 4, 3, 3, 2, 4, 5, 2, 3, 9, 9, 7,\n",
       "       4, 1, 9, 5, 2, 4, 6, 3])"
      ]
     },
     "execution_count": 28,
     "metadata": {},
     "output_type": "execute_result"
    }
   ],
   "source": [
    "y_test"
   ]
  },
  {
   "cell_type": "code",
   "execution_count": 29,
   "id": "229ddd8d",
   "metadata": {},
   "outputs": [
    {
     "data": {
      "text/plain": [
       "0.975"
      ]
     },
     "execution_count": 29,
     "metadata": {},
     "output_type": "execute_result"
    }
   ],
   "source": [
    "model.score(x_test, y_test)"
   ]
  },
  {
   "cell_type": "markdown",
   "id": "363f432c",
   "metadata": {},
   "source": [
    "The Model predicted 97% which is very high but where does the 3% is missed"
   ]
  },
  {
   "cell_type": "markdown",
   "id": "8624ca6c",
   "metadata": {},
   "source": [
    "                                                    Confussion Matrix"
   ]
  },
  {
   "cell_type": "code",
   "execution_count": 30,
   "id": "3ca339d0",
   "metadata": {},
   "outputs": [],
   "source": [
    "y_predicted = model.predict(x_test)"
   ]
  },
  {
   "cell_type": "code",
   "execution_count": 33,
   "id": "6754fec9",
   "metadata": {},
   "outputs": [
    {
     "data": {
      "text/plain": [
       "array([[42,  0,  0,  0,  0,  0,  0,  0,  0,  0],\n",
       "       [ 0, 36,  0,  0,  0,  0,  0,  0,  1,  0],\n",
       "       [ 0,  0, 36,  0,  0,  0,  0,  0,  0,  0],\n",
       "       [ 0,  0,  0, 39,  0,  0,  0,  0,  0,  1],\n",
       "       [ 0,  1,  0,  0, 40,  0,  0,  1,  1,  0],\n",
       "       [ 0,  1,  0,  0,  0, 33,  0,  0,  0,  0],\n",
       "       [ 0,  0,  0,  0,  0,  0, 37,  0,  1,  0],\n",
       "       [ 0,  0,  0,  0,  0,  0,  0, 34,  0,  0],\n",
       "       [ 0,  2,  0,  0,  0,  0,  0,  0, 25,  0],\n",
       "       [ 0,  0,  0,  0,  0,  0,  0,  0,  0, 29]], dtype=int64)"
      ]
     },
     "execution_count": 33,
     "metadata": {},
     "output_type": "execute_result"
    }
   ],
   "source": [
    "from sklearn.metrics import confusion_matrix\n",
    "cf = confusion_matrix(y_test, y_predicted)\n",
    "cf"
   ]
  }
 ],
 "metadata": {
  "kernelspec": {
   "display_name": "Python 3 (ipykernel)",
   "language": "python",
   "name": "python3"
  },
  "language_info": {
   "codemirror_mode": {
    "name": "ipython",
    "version": 3
   },
   "file_extension": ".py",
   "mimetype": "text/x-python",
   "name": "python",
   "nbconvert_exporter": "python",
   "pygments_lexer": "ipython3",
   "version": "3.10.6"
  }
 },
 "nbformat": 4,
 "nbformat_minor": 5
}
